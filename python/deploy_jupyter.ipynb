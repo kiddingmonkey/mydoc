{
 "cells": [
  {
   "cell_type": "markdown",
   "metadata": {},
   "source": [
    "# 简介\n",
    "本文简介如何部署[jupyter](https://jupyter.org/)  \n",
    "jupyter类似web版的ipython，吊炸天，帅爆了，很适合写代码示例或者技术文档\n",
    "\n",
    "# 部署步骤\n",
    "默认目录为：`/home/jupyter`\n",
    "\n",
    "1. 使用virtualenv创建虚拟环境  \n",
    "    `virtualenv jupyter_env`\n",
    "\n",
    "2. 进入虚拟环境  \n",
    "    linux：`source env/bin/active`  \n",
    "    windows：`jupyter_env\\Scripts\\activate`\n",
    "\n",
    "3. 安装jupyter  \n",
    "    `pip install jupyter`\n",
    "    \n",
    "4. 启动jupyter  \n",
    "    `jupyter notebook --ip 0.0.0.0 --port 8000`\n",
    "    \n",
    "5. 浏览器打开地址访问jupyter：`http://ip:port`"
   ]
  }
 ],
 "metadata": {
  "kernelspec": {
   "display_name": "Python 2",
   "language": "python",
   "name": "python2"
  },
  "language_info": {
   "codemirror_mode": {
    "name": "ipython",
    "version": 2
   },
   "file_extension": ".py",
   "mimetype": "text/x-python",
   "name": "python",
   "nbconvert_exporter": "python",
   "pygments_lexer": "ipython2",
   "version": "2.7.11"
  }
 },
 "nbformat": 4,
 "nbformat_minor": 0
}
